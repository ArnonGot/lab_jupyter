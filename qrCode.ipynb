{
 "metadata": {
  "language_info": {
   "codemirror_mode": {
    "name": "ipython",
    "version": 3
   },
   "file_extension": ".py",
   "mimetype": "text/x-python",
   "name": "python",
   "nbconvert_exporter": "python",
   "pygments_lexer": "ipython3",
   "version": "3.8.5-final"
  },
  "orig_nbformat": 2,
  "kernelspec": {
   "name": "python3",
   "display_name": "Python 3",
   "language": "python"
  }
 },
 "nbformat": 4,
 "nbformat_minor": 2,
 "cells": [
  {
   "cell_type": "code",
   "execution_count": 27,
   "metadata": {},
   "outputs": [],
   "source": [
    "import qrcode\n",
    "img = qrcode.make('Some data here') "
   ]
  },
  {
   "cell_type": "code",
   "execution_count": 38,
   "metadata": {},
   "outputs": [],
   "source": [
    "import qrcode\n",
    "qr = qrcode.QRCode(\n",
    "version=1, #ใช้ควบคุมขนาดของรหัส QR Code โดยมีค่า 1 - 40 ค่าที่ 1 จะมีขนาด 21x21 เมทริกซ์\n",
    "error_correction=qrcode.constants.ERROR_CORRECT_L, #ควบคุมการแก้ไขข้อผิดพลาด\n",
    "box_size=10, #ขนาดของกล่อง QR Code\n",
    "border=4, #ขนาดกรอบ\n",
    ")\n",
    "qr.add_data('https://pypi.org/project/qrcode/') #เพิ่มข้อมูล\n",
    "qr.make(fit=True)\n",
    "\n",
    "img = qr.make_image() \n"
   ]
  },
  {
   "cell_type": "code",
   "execution_count": 39,
   "metadata": {},
   "outputs": [
    {
     "output_type": "execute_result",
     "data": {
      "text/plain": [
       "<qrcode.image.pil.PilImage at 0x7f8e6e83d6a0>"
      ],
      "image/png": "[encoded data removed]"
     },
     "metadata": {},
     "execution_count": 39
    }
   ],
   "source": [
    "img"
   ]
  },
  {
   "cell_type": "code",
   "execution_count": null,
   "metadata": {},
   "outputs": [],
   "source": []
  }
 ]
}