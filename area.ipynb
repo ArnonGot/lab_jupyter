{
 "metadata": {
  "language_info": {
   "codemirror_mode": {
    "name": "ipython",
    "version": 3
   },
   "file_extension": ".py",
   "mimetype": "text/x-python",
   "name": "python",
   "nbconvert_exporter": "python",
   "pygments_lexer": "ipython3",
   "version": "3.8.5-final"
  },
  "orig_nbformat": 2,
  "kernelspec": {
   "name": "python3",
   "display_name": "Python 3",
   "language": "python"
  }
 },
 "nbformat": 4,
 "nbformat_minor": 2,
 "cells": [
  {
   "cell_type": "code",
   "execution_count": 1,
   "metadata": {},
   "outputs": [
    {
     "output_type": "stream",
     "name": "stdout",
     "text": [
      "20.0\n"
     ]
    }
   ],
   "source": [
    "def rectangle(w, h):\n",
    "    return w*h\n",
    "\n",
    "def triangle(w, h):\n",
    "    return .5 * rectangle(w, h)\n",
    "\n",
    "area=triangle(10,4)\n",
    "print(area)"
   ]
  }
 ]
}