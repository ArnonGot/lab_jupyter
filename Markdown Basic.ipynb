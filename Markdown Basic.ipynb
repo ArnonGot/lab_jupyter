{
 "cells": [
  {
   "cell_type": "markdown",
   "id": "complex-closure",
   "metadata": {},
   "source": [
    "# <span style=color:blue>How to create Table of Contents</span>"
   ]
  },
  {
   "cell_type": "markdown",
   "id": "competitive-engagement",
   "metadata": {},
   "source": [
    "# Contents\n",
    "* [Read a quote of the day](#Quote-of-the-day!)\n",
    "* [Read Jennie's profile](#Jennie-Blackpink)"
   ]
  },
  {
   "cell_type": "markdown",
   "id": "tired-costa",
   "metadata": {},
   "source": [
    "# Heading level 1-6"
   ]
  },
  {
   "cell_type": "markdown",
   "id": "opposed-atlas",
   "metadata": {},
   "source": [
    "## Heading 1"
   ]
  },
  {
   "cell_type": "markdown",
   "id": "statutory-mexico",
   "metadata": {},
   "source": [
    "###### This is heading 6"
   ]
  },
  {
   "cell_type": "markdown",
   "id": "industrial-senegal",
   "metadata": {},
   "source": [
    "* coffee\n",
    "* tea\n",
    "* soft drink"
   ]
  },
  {
   "cell_type": "markdown",
   "id": "congressional-concentration",
   "metadata": {},
   "source": [
    "1. Coffee\n",
    "2. Tea\n",
    "3. Soft drink\n",
    "4. Water"
   ]
  },
  {
   "cell_type": "markdown",
   "id": "gentle-university",
   "metadata": {},
   "source": [
    "1. Coffee\n",
    "    * mocha\n",
    "    * latte\n",
    "    * espresso\n",
    "2. Tea\n",
    "    * green\n",
    "    * jasmine\n",
    "3. Soft drink\n",
    "    * coke\n",
    "        * classic\n",
    "        * diet\n",
    "4. Water"
   ]
  },
  {
   "cell_type": "markdown",
   "id": "forbidden-intranet",
   "metadata": {},
   "source": [
    "first line.  \n",
    "second line.  \n",
    "third line.  \n"
   ]
  },
  {
   "cell_type": "markdown",
   "id": "female-columbia",
   "metadata": {},
   "source": [
    "# Quote of the day!"
   ]
  },
  {
   "cell_type": "markdown",
   "id": "expressed-dominican",
   "metadata": {},
   "source": [
    "The *impossible* dream.  \n",
    "May the **force** be with you.  \n",
    "***You*** can't save the world alone.  \n",
    "Past ~~Present~~ Future.  \n",
    "\n"
   ]
  },
  {
   "cell_type": "markdown",
   "id": "solved-banana",
   "metadata": {},
   "source": [
    "The <span style=color:red>*impossible*</span> dream.  \n",
    "<span style=color:blue;font-size:150%>May</span> the **force** be with you.  \n",
    "***You*** can't save the world alone.  \n",
    "Past ~~Present~~ Future.  "
   ]
  },
  {
   "cell_type": "markdown",
   "id": "complicated-format",
   "metadata": {},
   "source": [
    "# Hyperlink"
   ]
  },
  {
   "cell_type": "markdown",
   "id": "incorrect-margin",
   "metadata": {},
   "source": [
    "https://youtube.com  \n",
    "[Visit Youtube!](https://youtube.com)  \n",
    "### [Visit Youtube!](https://youtube.com)"
   ]
  },
  {
   "cell_type": "markdown",
   "id": "undefined-emergency",
   "metadata": {},
   "source": [
    "# Jennie Blackpink"
   ]
  },
  {
   "cell_type": "markdown",
   "id": "light-adult",
   "metadata": {},
   "source": [
    "![](https://upload.wikimedia.org/wikipedia/commons/thumb/f/f3/Jennie_Kim_for_Marie_Claire_Korea_Magazine_on_October_9%2C_2018_%282%29.png/340px-Jennie_Kim_for_Marie_Claire_Korea_Magazine_on_October_9%2C_2018_%282%29.png \"Jennie\")"
   ]
  },
  {
   "cell_type": "markdown",
   "id": "ultimate-fifteen",
   "metadata": {},
   "source": [
    "* **Born:** January 16, 1996 (age 25) Seoul Capital Area, South Korea\n",
    "* **Origin:** Seoul, South Korea\n",
    "* **Genres:** K popdance pop hip hop\n",
    "* **Occupation(s):** Singerrapper\n",
    "* **Instruments:** Vocals\n",
    "* **Years active:** 2012–2013, 2016–present\n",
    "* **Labels:** YGInterscope\n",
    "* **Associated acts:** BlackpinkYG Family"
   ]
  }
 ],
 "metadata": {
  "kernelspec": {
   "display_name": "Python 3",
   "language": "python",
   "name": "python3"
  },
  "language_info": {
   "codemirror_mode": {
    "name": "ipython",
    "version": 3
   },
   "file_extension": ".py",
   "mimetype": "text/x-python",
   "name": "python",
   "nbconvert_exporter": "python",
   "pygments_lexer": "ipython3",
   "version": "3.8.5"
  }
 },
 "nbformat": 4,
 "nbformat_minor": 5
}
